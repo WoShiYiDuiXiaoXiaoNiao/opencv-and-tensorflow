{
 "cells": [
  {
   "cell_type": "code",
   "execution_count": 3,
   "metadata": {},
   "outputs": [
    {
     "data": {
      "text/plain": [
       "-1"
      ]
     },
     "execution_count": 3,
     "metadata": {},
     "output_type": "execute_result"
    }
   ],
   "source": [
    "import cv2\n",
    "import numpy\n",
    "img=cv2.imread('image1.jpg')\n",
    "roi=img[0:100,0:100].copy()\n",
    "roi[:,:]=255\n",
    "#print(roi)\n",
    "cv2.imshow('src',img)\n",
    "#cv2.imshow('dst',roi)\n",
    "cv2.waitKey(0)\n"
   ]
  },
  {
   "cell_type": "code",
   "execution_count": 2,
   "metadata": {},
   "outputs": [
    {
     "name": "stdout",
     "output_type": "stream",
     "text": [
      "((75.5, 140.5), (79.0, 49.0), -90.0)\n"
     ]
    },
    {
     "data": {
      "text/plain": [
       "-1"
      ]
     },
     "execution_count": 2,
     "metadata": {},
     "output_type": "execute_result"
    }
   ],
   "source": [
    "import cv2\n",
    "import numpy as np\n",
    "img=np.zeros((200,200),np.uint8)\n",
    "bgr=cv2.cvtColor(img,cv2.COLOR_GRAY2BGR)\n",
    "#img[30:80,50:100]=255\n",
    "img[101:181,51:101]=255\n",
    "ret,dst=cv2.threshold(img,127,255,0)\n",
    "cv2.imshow('dst',dst)\n",
    "image,coutours,hietachy=cv2.findContours(dst,cv2.RETR_TREE,cv2.CHAIN_APPROX_SIMPLE)\n",
    "#for c in coutours:   或者\n",
    "len1=len(coutours)\n",
    "\n",
    "\n",
    "#旋转矩形\n",
    "rect=cv2.minAreaRect(coutours[0])#返回中心点坐标(x,y)，长宽（w,h）,旋转角度angle\n",
    "print(rect)\n",
    "box=cv2.boxPoints(rect)   #返回四个顶点坐标。需转化成int类型\n",
    "box=np.int0(box)\n",
    "for i in range(4):\n",
    "    cv2.line(bgr,tuple(box[i]),tuple(box[(i+1)%4]),(0,255,0),6)\n",
    "#print(type(box))\n",
    "\n",
    "\n",
    "\n",
    "#最小外接矩形\n",
    "x,y,w,h=cv2.boundingRect(coutours[0])\n",
    "#cv2.rectangle(bgr,(x,y),(x+w,y+h),(0,255,255),-1)\n",
    "cv2.imshow('bgr',bgr)\n",
    "\n",
    "\n",
    "\n",
    "cv2.waitKey(0)\n"
   ]
  },
  {
   "cell_type": "code",
   "execution_count": null,
   "metadata": {},
   "outputs": [
    {
     "name": "stdout",
     "output_type": "stream",
     "text": [
      "-1\n",
      "1\n",
      "-1\n",
      "1\n",
      "-1\n",
      "1\n",
      "-1\n",
      "1\n",
      "-1\n",
      "1\n",
      "-1\n",
      "1\n",
      "-1\n",
      "1\n",
      "-1\n",
      "1\n",
      "-1\n",
      "1\n",
      "-1\n",
      "1\n",
      "-1\n",
      "1\n",
      "-1\n",
      "1\n",
      "-1\n",
      "1\n",
      "-1\n",
      "1\n",
      "-1\n",
      "1\n",
      "-1\n",
      "1\n",
      "-1\n",
      "1\n"
     ]
    }
   ],
   "source": [
    "import cv2\n",
    "while  1:\n",
    "    a=cv2.waitKey(1000)\n",
    "    print(a)\n",
    "    print(1)"
   ]
  },
  {
   "cell_type": "code",
   "execution_count": null,
   "metadata": {},
   "outputs": [],
   "source": []
  },
  {
   "cell_type": "code",
   "execution_count": null,
   "metadata": {},
   "outputs": [],
   "source": []
  }
 ],
 "metadata": {
  "kernelspec": {
   "display_name": "Python 3",
   "language": "python",
   "name": "python3"
  },
  "language_info": {
   "codemirror_mode": {
    "name": "ipython",
    "version": 3
   },
   "file_extension": ".py",
   "mimetype": "text/x-python",
   "name": "python",
   "nbconvert_exporter": "python",
   "pygments_lexer": "ipython3",
   "version": "3.5.6"
  }
 },
 "nbformat": 4,
 "nbformat_minor": 2
}
